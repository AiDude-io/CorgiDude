{
 "cells": [
  {
   "cell_type": "code",
   "execution_count": 1,
   "metadata": {},
   "outputs": [
    {
     "name": "stdout",
     "output_type": "stream",
     "text": [
      "\u001b[34mConnecting to --port=COM3 --baud=115200 \u001b[0m\n",
      "\u001b[34m\n",
      "Ready.\n",
      "\u001b[0m"
     ]
    }
   ],
   "source": [
    "%serialconnect --port=COM3 --baudrate=115200"
   ]
  },
  {
   "cell_type": "code",
   "execution_count": 2,
   "metadata": {},
   "outputs": [],
   "source": [
    "# Year(year = None)\n",
    "# get / set year.\n",
    "\n",
    "# Month(month = None)\n",
    "# get / set month.\n",
    "\n",
    "# Day(day = None)\n",
    "# get / set day.\n",
    "\n",
    "# Weekday(weekday = None)\n",
    "# get / set month.\n",
    "\n",
    "# Hour(hour = None)\n",
    "# get / set hour.\n",
    "\n",
    "# Minute(minute = None)\n",
    "# get / set minute.\n",
    "\n",
    "# Second(second = None)\n",
    "# get / set second.\n",
    "\n",
    "# DateTime(dat = None)\n",
    "# get / set DateTime. If no paramter given, it will return current datetime, otherwise it will set datatime.\n",
    "# datatime format: [Year, month, day, weekday, hour, minute, second]\n",
    "\n",
    "# Time(dat = None)\n",
    "# get / set Time.\n",
    "# Time format: [hour, minute, second]\n",
    "\n",
    "# Date(dat = None)\n",
    "# get / set Date.\n",
    "# Date format: [Year, month, day]\n",
    "\n",
    "\n",
    "from machine import I2C\n",
    "import time\n",
    "import ds3231 "
   ]
  },
  {
   "cell_type": "code",
   "execution_count": 3,
   "metadata": {},
   "outputs": [],
   "source": [
    "i2c = I2C(I2C.I2C1, freq=100000, scl=14, sda=15)"
   ]
  },
  {
   "cell_type": "code",
   "execution_count": 4,
   "metadata": {},
   "outputs": [
    {
     "name": "stdout",
     "output_type": "stream",
     "text": [
      "[104]\n"
     ]
    }
   ],
   "source": [
    "print(i2c.scan())"
   ]
  },
  {
   "cell_type": "code",
   "execution_count": 5,
   "metadata": {},
   "outputs": [],
   "source": [
    "ds3231A = ds3231.DS3231(i2c)   #init"
   ]
  },
  {
   "cell_type": "code",
   "execution_count": 25,
   "metadata": {},
   "outputs": [],
   "source": [
    "ds3231A.DateTime([2020,7,27,2,21,36,0])   # ตั้งเวลา datatime format: [Year, month, day, weekday, hour, minute, second]"
   ]
  },
  {
   "cell_type": "code",
   "execution_count": 7,
   "metadata": {},
   "outputs": [
    {
     "name": "stdout",
     "output_type": "stream",
     "text": [
      "[16, 50, 24]\n"
     ]
    }
   ],
   "source": [
    "print(ds3231A.Time())  #อ่านเวลา format: [hour, minute, second]"
   ]
  },
  {
   "cell_type": "code",
   "execution_count": 8,
   "metadata": {},
   "outputs": [
    {
     "name": "stdout",
     "output_type": "stream",
     "text": [
      "[2020, 7, 28]\n"
     ]
    }
   ],
   "source": [
    "print(ds3231A.Date()) #อ่านวัน  format: [Year, month, day]"
   ]
  },
  {
   "cell_type": "code",
   "execution_count": 9,
   "metadata": {},
   "outputs": [
    {
     "name": "stdout",
     "output_type": "stream",
     "text": [
      "3\n"
     ]
    }
   ],
   "source": [
    "print(ds3231A.Weekday()) #อ่านวันใน Week"
   ]
  }
 ],
 "metadata": {
  "kernelspec": {
   "display_name": "MicroPython/ESP32 - USB",
   "language": "python",
   "name": "micropython"
  },
  "language_info": {
   "codemirror_mode": "python",
   "file_extension": ".py",
   "mimetype": "text/python",
   "name": "micropython"
  }
 },
 "nbformat": 4,
 "nbformat_minor": 4
}
