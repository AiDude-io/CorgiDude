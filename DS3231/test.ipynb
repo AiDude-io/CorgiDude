{
 "cells": [
  {
   "cell_type": "code",
   "execution_count": 1,
   "metadata": {},
   "outputs": [
    {
     "name": "stdout",
     "output_type": "stream",
     "text": [
      "\u001b[34mConnecting to --port=COM3 --baud=115200 \u001b[0m\n",
      "\u001b[34m\n",
      "Ready.\n",
      "\u001b[0m"
     ]
    }
   ],
   "source": [
    "%serialconnect --port=COM3 --baudrate=115200"
   ]
  },
  {
   "cell_type": "code",
   "execution_count": 2,
   "metadata": {},
   "outputs": [],
   "source": [
    "from machine import I2C\n",
    "import time\n",
    "import ds3231 "
   ]
  },
  {
   "cell_type": "code",
   "execution_count": 3,
   "metadata": {},
   "outputs": [],
   "source": [
    "i2c = I2C(I2C.I2C1, freq=100000, scl=14, sda=15)"
   ]
  },
  {
   "cell_type": "code",
   "execution_count": 4,
   "metadata": {},
   "outputs": [
    {
     "name": "stdout",
     "output_type": "stream",
     "text": [
      "[41]\n"
     ]
    }
   ],
   "source": [
    "print(i2c.scan())"
   ]
  },
  {
   "cell_type": "code",
   "execution_count": 5,
   "metadata": {},
   "outputs": [],
   "source": [
    "ds3231A = ds3231.DS3231(i2c)   #init"
   ]
  },
  {
   "cell_type": "code",
   "execution_count": 25,
   "metadata": {},
   "outputs": [],
   "source": [
    "ds3231A.DateTime([2020,7,27,2,21,36,0])   # ตั้งเวลา datatime format: [Year, month, day, weekday, hour, minute, second]"
   ]
  },
  {
   "cell_type": "code",
   "execution_count": 7,
   "metadata": {},
   "outputs": [
    {
     "name": "stdout",
     "output_type": "stream",
     "text": [
      "[16, 50, 24]\n"
     ]
    }
   ],
   "source": [
    "print(ds3231A.Time())  #อ่านเวลา format: [hour, minute, second]"
   ]
  },
  {
   "cell_type": "code",
   "execution_count": 8,
   "metadata": {},
   "outputs": [
    {
     "name": "stdout",
     "output_type": "stream",
     "text": [
      "[2020, 7, 28]\n"
     ]
    }
   ],
   "source": [
    "print(ds3231A.Date()) #อ่านวัน  format: [Year, month, day]"
   ]
  },
  {
   "cell_type": "code",
   "execution_count": 9,
   "metadata": {},
   "outputs": [
    {
     "name": "stdout",
     "output_type": "stream",
     "text": [
      "3\n"
     ]
    }
   ],
   "source": [
    "print(ds3231A.Weekday()) #อ่านวันใน Week"
   ]
  },
  {
   "cell_type": "code",
   "execution_count": 2,
   "metadata": {},
   "outputs": [],
   "source": [
    "from Maix import freq\n"
   ]
  },
  {
   "cell_type": "code",
   "execution_count": 5,
   "metadata": {},
   "outputs": [
    {
     "name": "stdout",
     "output_type": "stream",
     "text": [
      "(598, 702)\n"
     ]
    }
   ],
   "source": [
    "print(freq.get())"
   ]
  },
  {
   "cell_type": "code",
   "execution_count": 4,
   "metadata": {},
   "outputs": [
    {
     "name": "stdout",
     "output_type": "stream",
     "text": [
      "\n",
      "reboot now\n",
      "\n",
      "[MAIXPY]Pll0:freq:1404000000\n",
      "[MAIXPY]Pll1:freq:702000000\n",
      "[MAIXPY]Pll2:freq:45066666\n",
      "[MAIXPY]cpu:freq:702000000\n",
      "[MAIXPY]kpu:freq:702000000\n",
      "[MAIXPY]Flash:0xc8:0x17\n",
      "[MAIXPY]:HID=5D7DFAE9EB6EFE3767609A2E7A62D64789C24CEE164E502890144D24110FC2FF\n",
      "open second core...\n",
      "gc heap=0x801f9ae0-0x80279ae0(524288)\n",
      "[MaixPy] init end\n",
      "\u001b[34m\n",
      "\n",
      "*** Sending Ctrl-C\n",
      "\n",
      "\u001b[0mTraceback (most recent call last):\n",
      "  File \"_boot.py\", line 132, in <module>\n",
      "KeyboardInterrupt: \n",
      "MicroPython v0.5.0-47-ge29a95c42-dirty on 2020-07-31; Sipeed_M1 with kendryte-k210\n",
      "Type \"help()\" for more information.\n",
      ">>> \n",
      ">>> \n",
      ">>>[reboot detected 0]repl is in normal command mode\n",
      "[\\r\\x03\\x03] b'\\r\\n>>> '\n",
      "[\\r\\x01] b'\\r\\n>>> \\r\\nraw REPL; CTRL-B to exit\\r\\n>' "
     ]
    }
   ],
   "source": [
    "freq.set(700,700)"
   ]
  },
  {
   "cell_type": "code",
   "execution_count": null,
   "metadata": {},
   "outputs": [],
   "source": []
  }
 ],
 "metadata": {
  "kernelspec": {
   "display_name": "MicroPython/ESP32 - USB",
   "language": "python",
   "name": "micropython"
  },
  "language_info": {
   "codemirror_mode": "python",
   "file_extension": ".py",
   "mimetype": "text/python",
   "name": "micropython"
  }
 },
 "nbformat": 4,
 "nbformat_minor": 4
}
